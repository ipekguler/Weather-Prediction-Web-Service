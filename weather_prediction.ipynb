{
 "cells": [
  {
   "cell_type": "code",
   "execution_count": 495,
   "id": "5a48f9dc",
   "metadata": {},
   "outputs": [],
   "source": [
    "import pandas as pd\n",
    "from sklearn.preprocessing import LabelEncoder, StandardScaler, OneHotEncoder\n",
    "import seaborn as sns\n",
    "from sklearn.neighbors import KNeighborsClassifier\n",
    "from sklearn.model_selection import train_test_split, GridSearchCV\n",
    "from xgboost import XGBClassifier\n",
    "from sklearn.metrics import classification_report\n",
    "from sklearn.ensemble import RandomForestClassifier\n",
    "import numpy as np\n",
    "import matplotlib.pyplot as plt"
   ]
  },
  {
   "cell_type": "code",
   "execution_count": 498,
   "id": "2d7f1587",
   "metadata": {},
   "outputs": [],
   "source": [
    "df = pd.read_csv('./data/weather_classification_data.csv')"
   ]
  },
  {
   "cell_type": "code",
   "execution_count": 339,
   "id": "aba27681",
   "metadata": {},
   "outputs": [
    {
     "data": {
      "text/html": [
       "<div>\n",
       "<style scoped>\n",
       "    .dataframe tbody tr th:only-of-type {\n",
       "        vertical-align: middle;\n",
       "    }\n",
       "\n",
       "    .dataframe tbody tr th {\n",
       "        vertical-align: top;\n",
       "    }\n",
       "\n",
       "    .dataframe thead th {\n",
       "        text-align: right;\n",
       "    }\n",
       "</style>\n",
       "<table border=\"1\" class=\"dataframe\">\n",
       "  <thead>\n",
       "    <tr style=\"text-align: right;\">\n",
       "      <th></th>\n",
       "      <th>Temperature</th>\n",
       "      <th>Humidity</th>\n",
       "      <th>Wind Speed</th>\n",
       "      <th>Precipitation (%)</th>\n",
       "      <th>Cloud Cover</th>\n",
       "      <th>Atmospheric Pressure</th>\n",
       "      <th>UV Index</th>\n",
       "      <th>Season</th>\n",
       "      <th>Visibility (km)</th>\n",
       "      <th>Location</th>\n",
       "      <th>Weather Type</th>\n",
       "    </tr>\n",
       "  </thead>\n",
       "  <tbody>\n",
       "    <tr>\n",
       "      <th>0</th>\n",
       "      <td>14.0</td>\n",
       "      <td>73</td>\n",
       "      <td>9.5</td>\n",
       "      <td>82.0</td>\n",
       "      <td>partly cloudy</td>\n",
       "      <td>1010.82</td>\n",
       "      <td>2</td>\n",
       "      <td>Winter</td>\n",
       "      <td>3.5</td>\n",
       "      <td>inland</td>\n",
       "      <td>Rainy</td>\n",
       "    </tr>\n",
       "    <tr>\n",
       "      <th>1</th>\n",
       "      <td>39.0</td>\n",
       "      <td>96</td>\n",
       "      <td>8.5</td>\n",
       "      <td>71.0</td>\n",
       "      <td>partly cloudy</td>\n",
       "      <td>1011.43</td>\n",
       "      <td>7</td>\n",
       "      <td>Spring</td>\n",
       "      <td>10.0</td>\n",
       "      <td>inland</td>\n",
       "      <td>Cloudy</td>\n",
       "    </tr>\n",
       "    <tr>\n",
       "      <th>2</th>\n",
       "      <td>30.0</td>\n",
       "      <td>64</td>\n",
       "      <td>7.0</td>\n",
       "      <td>16.0</td>\n",
       "      <td>clear</td>\n",
       "      <td>1018.72</td>\n",
       "      <td>5</td>\n",
       "      <td>Spring</td>\n",
       "      <td>5.5</td>\n",
       "      <td>mountain</td>\n",
       "      <td>Sunny</td>\n",
       "    </tr>\n",
       "    <tr>\n",
       "      <th>3</th>\n",
       "      <td>38.0</td>\n",
       "      <td>83</td>\n",
       "      <td>1.5</td>\n",
       "      <td>82.0</td>\n",
       "      <td>clear</td>\n",
       "      <td>1026.25</td>\n",
       "      <td>7</td>\n",
       "      <td>Spring</td>\n",
       "      <td>1.0</td>\n",
       "      <td>coastal</td>\n",
       "      <td>Sunny</td>\n",
       "    </tr>\n",
       "    <tr>\n",
       "      <th>4</th>\n",
       "      <td>27.0</td>\n",
       "      <td>74</td>\n",
       "      <td>17.0</td>\n",
       "      <td>66.0</td>\n",
       "      <td>overcast</td>\n",
       "      <td>990.67</td>\n",
       "      <td>1</td>\n",
       "      <td>Winter</td>\n",
       "      <td>2.5</td>\n",
       "      <td>mountain</td>\n",
       "      <td>Rainy</td>\n",
       "    </tr>\n",
       "  </tbody>\n",
       "</table>\n",
       "</div>"
      ],
      "text/plain": [
       "   Temperature  Humidity  Wind Speed  Precipitation (%)    Cloud Cover  \\\n",
       "0         14.0        73         9.5               82.0  partly cloudy   \n",
       "1         39.0        96         8.5               71.0  partly cloudy   \n",
       "2         30.0        64         7.0               16.0          clear   \n",
       "3         38.0        83         1.5               82.0          clear   \n",
       "4         27.0        74        17.0               66.0       overcast   \n",
       "\n",
       "   Atmospheric Pressure  UV Index  Season  Visibility (km)  Location  \\\n",
       "0               1010.82         2  Winter              3.5    inland   \n",
       "1               1011.43         7  Spring             10.0    inland   \n",
       "2               1018.72         5  Spring              5.5  mountain   \n",
       "3               1026.25         7  Spring              1.0   coastal   \n",
       "4                990.67         1  Winter              2.5  mountain   \n",
       "\n",
       "  Weather Type  \n",
       "0        Rainy  \n",
       "1       Cloudy  \n",
       "2        Sunny  \n",
       "3        Sunny  \n",
       "4        Rainy  "
      ]
     },
     "execution_count": 339,
     "metadata": {},
     "output_type": "execute_result"
    }
   ],
   "source": [
    "df.head()"
   ]
  },
  {
   "cell_type": "code",
   "execution_count": 340,
   "id": "b2b72be1",
   "metadata": {},
   "outputs": [
    {
     "name": "stdout",
     "output_type": "stream",
     "text": [
      "<class 'pandas.core.frame.DataFrame'>\n",
      "RangeIndex: 13200 entries, 0 to 13199\n",
      "Data columns (total 11 columns):\n",
      " #   Column                Non-Null Count  Dtype  \n",
      "---  ------                --------------  -----  \n",
      " 0   Temperature           13200 non-null  float64\n",
      " 1   Humidity              13200 non-null  int64  \n",
      " 2   Wind Speed            13200 non-null  float64\n",
      " 3   Precipitation (%)     13200 non-null  float64\n",
      " 4   Cloud Cover           13200 non-null  object \n",
      " 5   Atmospheric Pressure  13200 non-null  float64\n",
      " 6   UV Index              13200 non-null  int64  \n",
      " 7   Season                13200 non-null  object \n",
      " 8   Visibility (km)       13200 non-null  float64\n",
      " 9   Location              13200 non-null  object \n",
      " 10  Weather Type          13200 non-null  object \n",
      "dtypes: float64(5), int64(2), object(4)\n",
      "memory usage: 1.1+ MB\n"
     ]
    }
   ],
   "source": [
    "df.info()"
   ]
  },
  {
   "cell_type": "code",
   "execution_count": 499,
   "id": "17c8a7dc",
   "metadata": {},
   "outputs": [],
   "source": [
    "target = 'Weather Type'\n",
    "categorical = ['Cloud Cover', 'Season', 'Location']\n",
    "numerical = ['Temperature', 'Humidity', 'Wind Speed', 'Precipitation (%)', 'Atmospheric Pressure', 'UV Index', 'Visibility (km)']"
   ]
  },
  {
   "cell_type": "code",
   "execution_count": 346,
   "id": "325454f8",
   "metadata": {},
   "outputs": [
    {
     "data": {
      "text/html": [
       "<div>\n",
       "<style scoped>\n",
       "    .dataframe tbody tr th:only-of-type {\n",
       "        vertical-align: middle;\n",
       "    }\n",
       "\n",
       "    .dataframe tbody tr th {\n",
       "        vertical-align: top;\n",
       "    }\n",
       "\n",
       "    .dataframe thead th {\n",
       "        text-align: right;\n",
       "    }\n",
       "</style>\n",
       "<table border=\"1\" class=\"dataframe\">\n",
       "  <thead>\n",
       "    <tr style=\"text-align: right;\">\n",
       "      <th></th>\n",
       "      <th>Temperature</th>\n",
       "      <th>Humidity</th>\n",
       "      <th>Wind Speed</th>\n",
       "      <th>Precipitation (%)</th>\n",
       "      <th>Atmospheric Pressure</th>\n",
       "      <th>UV Index</th>\n",
       "      <th>Visibility (km)</th>\n",
       "    </tr>\n",
       "  </thead>\n",
       "  <tbody>\n",
       "    <tr>\n",
       "      <th>count</th>\n",
       "      <td>13200.000000</td>\n",
       "      <td>13200.000000</td>\n",
       "      <td>13200.000000</td>\n",
       "      <td>13200.000000</td>\n",
       "      <td>13200.000000</td>\n",
       "      <td>13200.000000</td>\n",
       "      <td>13200.000000</td>\n",
       "    </tr>\n",
       "    <tr>\n",
       "      <th>mean</th>\n",
       "      <td>19.127576</td>\n",
       "      <td>68.710833</td>\n",
       "      <td>9.832197</td>\n",
       "      <td>53.644394</td>\n",
       "      <td>1005.827896</td>\n",
       "      <td>4.005758</td>\n",
       "      <td>5.462917</td>\n",
       "    </tr>\n",
       "    <tr>\n",
       "      <th>std</th>\n",
       "      <td>17.386327</td>\n",
       "      <td>20.194248</td>\n",
       "      <td>6.908704</td>\n",
       "      <td>31.946541</td>\n",
       "      <td>37.199589</td>\n",
       "      <td>3.856600</td>\n",
       "      <td>3.371499</td>\n",
       "    </tr>\n",
       "    <tr>\n",
       "      <th>min</th>\n",
       "      <td>-25.000000</td>\n",
       "      <td>20.000000</td>\n",
       "      <td>0.000000</td>\n",
       "      <td>0.000000</td>\n",
       "      <td>800.120000</td>\n",
       "      <td>0.000000</td>\n",
       "      <td>0.000000</td>\n",
       "    </tr>\n",
       "    <tr>\n",
       "      <th>25%</th>\n",
       "      <td>4.000000</td>\n",
       "      <td>57.000000</td>\n",
       "      <td>5.000000</td>\n",
       "      <td>19.000000</td>\n",
       "      <td>994.800000</td>\n",
       "      <td>1.000000</td>\n",
       "      <td>3.000000</td>\n",
       "    </tr>\n",
       "    <tr>\n",
       "      <th>50%</th>\n",
       "      <td>21.000000</td>\n",
       "      <td>70.000000</td>\n",
       "      <td>9.000000</td>\n",
       "      <td>58.000000</td>\n",
       "      <td>1007.650000</td>\n",
       "      <td>3.000000</td>\n",
       "      <td>5.000000</td>\n",
       "    </tr>\n",
       "    <tr>\n",
       "      <th>75%</th>\n",
       "      <td>31.000000</td>\n",
       "      <td>84.000000</td>\n",
       "      <td>13.500000</td>\n",
       "      <td>82.000000</td>\n",
       "      <td>1016.772500</td>\n",
       "      <td>7.000000</td>\n",
       "      <td>7.500000</td>\n",
       "    </tr>\n",
       "    <tr>\n",
       "      <th>max</th>\n",
       "      <td>109.000000</td>\n",
       "      <td>109.000000</td>\n",
       "      <td>48.500000</td>\n",
       "      <td>109.000000</td>\n",
       "      <td>1199.210000</td>\n",
       "      <td>14.000000</td>\n",
       "      <td>20.000000</td>\n",
       "    </tr>\n",
       "  </tbody>\n",
       "</table>\n",
       "</div>"
      ],
      "text/plain": [
       "        Temperature      Humidity    Wind Speed  Precipitation (%)  \\\n",
       "count  13200.000000  13200.000000  13200.000000       13200.000000   \n",
       "mean      19.127576     68.710833      9.832197          53.644394   \n",
       "std       17.386327     20.194248      6.908704          31.946541   \n",
       "min      -25.000000     20.000000      0.000000           0.000000   \n",
       "25%        4.000000     57.000000      5.000000          19.000000   \n",
       "50%       21.000000     70.000000      9.000000          58.000000   \n",
       "75%       31.000000     84.000000     13.500000          82.000000   \n",
       "max      109.000000    109.000000     48.500000         109.000000   \n",
       "\n",
       "       Atmospheric Pressure      UV Index  Visibility (km)  \n",
       "count          13200.000000  13200.000000     13200.000000  \n",
       "mean            1005.827896      4.005758         5.462917  \n",
       "std               37.199589      3.856600         3.371499  \n",
       "min              800.120000      0.000000         0.000000  \n",
       "25%              994.800000      1.000000         3.000000  \n",
       "50%             1007.650000      3.000000         5.000000  \n",
       "75%             1016.772500      7.000000         7.500000  \n",
       "max             1199.210000     14.000000        20.000000  "
      ]
     },
     "execution_count": 346,
     "metadata": {},
     "output_type": "execute_result"
    }
   ],
   "source": [
    "df.describe()"
   ]
  },
  {
   "cell_type": "code",
   "execution_count": 347,
   "id": "4d254a5b",
   "metadata": {},
   "outputs": [
    {
     "data": {
      "text/html": [
       "<div>\n",
       "<style scoped>\n",
       "    .dataframe tbody tr th:only-of-type {\n",
       "        vertical-align: middle;\n",
       "    }\n",
       "\n",
       "    .dataframe tbody tr th {\n",
       "        vertical-align: top;\n",
       "    }\n",
       "\n",
       "    .dataframe thead th {\n",
       "        text-align: right;\n",
       "    }\n",
       "</style>\n",
       "<table border=\"1\" class=\"dataframe\">\n",
       "  <thead>\n",
       "    <tr style=\"text-align: right;\">\n",
       "      <th></th>\n",
       "      <th>Cloud Cover</th>\n",
       "      <th>Season</th>\n",
       "      <th>Location</th>\n",
       "      <th>Weather Type</th>\n",
       "    </tr>\n",
       "  </thead>\n",
       "  <tbody>\n",
       "    <tr>\n",
       "      <th>count</th>\n",
       "      <td>13200</td>\n",
       "      <td>13200</td>\n",
       "      <td>13200</td>\n",
       "      <td>13200</td>\n",
       "    </tr>\n",
       "    <tr>\n",
       "      <th>unique</th>\n",
       "      <td>4</td>\n",
       "      <td>4</td>\n",
       "      <td>3</td>\n",
       "      <td>4</td>\n",
       "    </tr>\n",
       "    <tr>\n",
       "      <th>top</th>\n",
       "      <td>overcast</td>\n",
       "      <td>Winter</td>\n",
       "      <td>inland</td>\n",
       "      <td>Rainy</td>\n",
       "    </tr>\n",
       "    <tr>\n",
       "      <th>freq</th>\n",
       "      <td>6090</td>\n",
       "      <td>5610</td>\n",
       "      <td>4816</td>\n",
       "      <td>3300</td>\n",
       "    </tr>\n",
       "  </tbody>\n",
       "</table>\n",
       "</div>"
      ],
      "text/plain": [
       "       Cloud Cover  Season Location Weather Type\n",
       "count        13200   13200    13200        13200\n",
       "unique           4       4        3            4\n",
       "top       overcast  Winter   inland        Rainy\n",
       "freq          6090    5610     4816         3300"
      ]
     },
     "execution_count": 347,
     "metadata": {},
     "output_type": "execute_result"
    }
   ],
   "source": [
    "df.describe(exclude=\"number\")"
   ]
  },
  {
   "cell_type": "code",
   "execution_count": 342,
   "id": "dbe1bcfe",
   "metadata": {},
   "outputs": [
    {
     "data": {
      "text/plain": [
       "0"
      ]
     },
     "execution_count": 342,
     "metadata": {},
     "output_type": "execute_result"
    }
   ],
   "source": [
    "df.duplicated().sum()"
   ]
  },
  {
   "cell_type": "code",
   "execution_count": 343,
   "id": "d16d4e9d",
   "metadata": {},
   "outputs": [
    {
     "data": {
      "text/plain": [
       "Temperature             0\n",
       "Humidity                0\n",
       "Wind Speed              0\n",
       "Precipitation (%)       0\n",
       "Cloud Cover             0\n",
       "Atmospheric Pressure    0\n",
       "UV Index                0\n",
       "Season                  0\n",
       "Visibility (km)         0\n",
       "Location                0\n",
       "Weather Type            0\n",
       "dtype: int64"
      ]
     },
     "execution_count": 343,
     "metadata": {},
     "output_type": "execute_result"
    }
   ],
   "source": [
    "df.isnull().sum()"
   ]
  },
  {
   "cell_type": "code",
   "execution_count": 350,
   "id": "63f01138",
   "metadata": {},
   "outputs": [
    {
     "data": {
      "image/png": "[encoded data removed]",
      "text/plain": [
       "<Figure size 432x288 with 1 Axes>"
      ]
     },
     "metadata": {
      "needs_background": "light"
     },
     "output_type": "display_data"
    },
    {
     "data": {
      "image/png": "[encoded data removed]",
      "text/plain": [
       "<Figure size 432x288 with 1 Axes>"
      ]
     },
     "metadata": {
      "needs_background": "light"
     },
     "output_type": "display_data"
    },
    {
     "data": {
      "image/png": "[encoded data removed]",
      "text/plain": [
       "<Figure size 432x288 with 1 Axes>"
      ]
     },
     "metadata": {
      "needs_background": "light"
     },
     "output_type": "display_data"
    },
    {
     "data": {
      "image/png": "[encoded data removed]",
      "text/plain": [
       "<Figure size 432x288 with 1 Axes>"
      ]
     },
     "metadata": {
      "needs_background": "light"
     },
     "output_type": "display_data"
    },
    {
     "data": {
      "image/png": "[encoded data removed]",
      "text/plain": [
       "<Figure size 432x288 with 1 Axes>"
      ]
     },
     "metadata": {
      "needs_background": "light"
     },
     "output_type": "display_data"
    },
    {
     "data": {
      "image/png": "[encoded data removed]",
      "text/plain": [
       "<Figure size 432x288 with 1 Axes>"
      ]
     },
     "metadata": {
      "needs_background": "light"
     },
     "output_type": "display_data"
    },
    {
     "data": {
      "image/png": "[encoded data removed]",
      "text/plain": [
       "<Figure size 432x288 with 1 Axes>"
      ]
     },
     "metadata": {
      "needs_background": "light"
     },
     "output_type": "display_data"
    }
   ],
   "source": [
    "for cols in numerical:\n",
    "    sns.boxplot(x=df[cols])\n",
    "    plt.show()"
   ]
  },
  {
   "cell_type": "code",
   "execution_count": 500,
   "id": "aa18494b",
   "metadata": {},
   "outputs": [],
   "source": [
    "df['Weather Type'] = LabelEncoder().fit_transform(df['Weather Type'])"
   ]
  },
  {
   "cell_type": "code",
   "execution_count": 353,
   "id": "f3377f94",
   "metadata": {},
   "outputs": [
    {
     "data": {
      "text/plain": [
       "<AxesSubplot:>"
      ]
     },
     "execution_count": 353,
     "metadata": {},
     "output_type": "execute_result"
    },
    {
     "data": {
      "image/png": "[encoded data removed]",
      "text/plain": [
       "<Figure size 432x288 with 2 Axes>"
      ]
     },
     "metadata": {
      "needs_background": "light"
     },
     "output_type": "display_data"
    }
   ],
   "source": [
    "sns.heatmap(df.corr(), annot= True)"
   ]
  },
  {
   "cell_type": "code",
   "execution_count": 501,
   "id": "6de982d8",
   "metadata": {},
   "outputs": [],
   "source": [
    "X = df.drop(columns= ['Weather Type'], axis=1)\n",
    "y = df['Weather Type']\n",
    "\n",
    "X_train, X_test, y_train, y_test = train_test_split(X, y, test_size=0.2, random_state=0)"
   ]
  },
  {
   "cell_type": "code",
   "execution_count": 502,
   "id": "c47b5104",
   "metadata": {},
   "outputs": [],
   "source": [
    "ss=StandardScaler()\n",
    "X_train.loc[:,numerical]=ss.fit_transform(X_train.loc[:,numerical])\n",
    "X_test.loc[:,numerical]=ss.transform(X_test.loc[:,numerical])"
   ]
  },
  {
   "cell_type": "code",
   "execution_count": 454,
   "id": "d415c4cc",
   "metadata": {},
   "outputs": [
    {
     "name": "stderr",
     "output_type": "stream",
     "text": [
      "/home/ipekguler/anaconda3/lib/python3.9/site-packages/sklearn/utils/deprecation.py:87: FutureWarning: Function get_feature_names is deprecated; get_feature_names is deprecated in 1.0 and will be removed in 1.2. Please use get_feature_names_out instead.\n",
      "  warnings.warn(msg, category=FutureWarning)\n",
      "/home/ipekguler/anaconda3/lib/python3.9/site-packages/sklearn/utils/deprecation.py:87: FutureWarning: Function get_feature_names is deprecated; get_feature_names is deprecated in 1.0 and will be removed in 1.2. Please use get_feature_names_out instead.\n",
      "  warnings.warn(msg, category=FutureWarning)\n"
     ]
    }
   ],
   "source": [
    "oe=OneHotEncoder(sparse=False)\n",
    "X_train[oe.get_feature_names()]=oe.fit_transform(X_train[categorical])\n",
    "X_test[oe.get_feature_names()]=oe.transform(X_test[categorical])"
   ]
  },
  {
   "cell_type": "code",
   "execution_count": 455,
   "id": "7e6a5e88",
   "metadata": {},
   "outputs": [],
   "source": [
    "X_train.drop(columns=categorical, inplace=True)\n",
    "X_test.drop(columns=categorical, inplace=True)"
   ]
  },
  {
   "cell_type": "code",
   "execution_count": 491,
   "id": "bb147662",
   "metadata": {},
   "outputs": [],
   "source": [
    "def model_fit_evaluate(model, parameters, X_train, y_train, X_test, y_test):\n",
    "    grid = GridSearchCV(model, parameters, error_score=\"raise\")\n",
    "    grid.fit(X_train, y_train)\n",
    "    #print(grid.best_estimator_, grid.best_params_)\n",
    "    \n",
    "    pred = grid.predict(X_test)\n",
    "    \n",
    "    print(\"classification report for \", model, \":\\n\", classification_report(y_test, pred), \"\\n\\n\")"
   ]
  },
  {
   "cell_type": "code",
   "execution_count": 496,
   "id": "dda99ade",
   "metadata": {},
   "outputs": [
    {
     "name": "stderr",
     "output_type": "stream",
     "text": [
      "/home/ipekguler/anaconda3/lib/python3.9/site-packages/sklearn/ensemble/_forest.py:560: UserWarning: Some inputs do not have OOB scores. This probably means too few trees were used to compute any reliable OOB estimates.\n",
      "  warn(\n",
      "/home/ipekguler/anaconda3/lib/python3.9/site-packages/sklearn/ensemble/_forest.py:560: UserWarning: Some inputs do not have OOB scores. This probably means too few trees were used to compute any reliable OOB estimates.\n",
      "  warn(\n",
      "/home/ipekguler/anaconda3/lib/python3.9/site-packages/sklearn/ensemble/_forest.py:560: UserWarning: Some inputs do not have OOB scores. This probably means too few trees were used to compute any reliable OOB estimates.\n",
      "  warn(\n",
      "/home/ipekguler/anaconda3/lib/python3.9/site-packages/sklearn/ensemble/_forest.py:560: UserWarning: Some inputs do not have OOB scores. This probably means too few trees were used to compute any reliable OOB estimates.\n",
      "  warn(\n"
     ]
    },
    {
     "name": "stdout",
     "output_type": "stream",
     "text": [
      "RandomForestClassifier(max_features=2, n_estimators=68) {'bootstrap': True, 'max_features': 2, 'n_estimators': 68, 'oob_score': False}\n",
      "classification report for  RandomForestClassifier() :\n",
      "               precision    recall  f1-score   support\n",
      "\n",
      "           0       0.92      0.90      0.91       659\n",
      "           1       0.89      0.93      0.91       682\n",
      "           2       0.94      0.93      0.94       664\n",
      "           3       0.94      0.92      0.93       635\n",
      "\n",
      "    accuracy                           0.92      2640\n",
      "   macro avg       0.92      0.92      0.92      2640\n",
      "weighted avg       0.92      0.92      0.92      2640\n",
      " :\n",
      "\n",
      "\n",
      "KNeighborsClassifier(metric='euclidean', n_neighbors=3, weights='distance') {'metric': 'euclidean', 'n_neighbors': 3, 'weights': 'distance'}\n",
      "classification report for  KNeighborsClassifier() :\n",
      "               precision    recall  f1-score   support\n",
      "\n",
      "           0       0.92      0.90      0.91       659\n",
      "           1       0.89      0.93      0.91       682\n",
      "           2       0.94      0.93      0.94       664\n",
      "           3       0.94      0.92      0.93       635\n",
      "\n",
      "    accuracy                           0.92      2640\n",
      "   macro avg       0.92      0.92      0.92      2640\n",
      "weighted avg       0.92      0.92      0.92      2640\n",
      " :\n",
      "\n",
      "\n",
      "XGBClassifier(base_score=None, booster=None, callbacks=None,\n",
      "              colsample_bylevel=None, colsample_bynode=None,\n",
      "              colsample_bytree=None, device=None, early_stopping_rounds=None,\n",
      "              enable_categorical=False, eval_metric=None, feature_types=None,\n",
      "              gamma=None, grow_policy=None, importance_type=None,\n",
      "              interaction_constraints=None, learning_rate=0.2, max_bin=None,\n",
      "              max_cat_threshold=None, max_cat_to_onehot=None,\n",
      "              max_delta_step=None, max_depth=3, max_leaves=None,\n",
      "              min_child_weight=None, missing=nan, monotone_constraints=None,\n",
      "              multi_strategy=None, n_estimators=50, n_jobs=None,\n",
      "              num_parallel_tree=None, objective='multi:softprob', ...) {'learning_rate': 0.2, 'max_depth': 3, 'n_estimators': 50}\n",
      "classification report for  XGBClassifier(base_score=None, booster=None, callbacks=None,\n",
      "              colsample_bylevel=None, colsample_bynode=None,\n",
      "              colsample_bytree=None, device=None, early_stopping_rounds=None,\n",
      "              enable_categorical=False, eval_metric=None, feature_types=None,\n",
      "              gamma=None, grow_policy=None, importance_type=None,\n",
      "              interaction_constraints=None, learning_rate=None, max_bin=None,\n",
      "              max_cat_threshold=None, max_cat_to_onehot=None,\n",
      "              max_delta_step=None, max_depth=None, max_leaves=None,\n",
      "              min_child_weight=None, missing=nan, monotone_constraints=None,\n",
      "              multi_strategy=None, n_estimators=None, n_jobs=None,\n",
      "              num_parallel_tree=None, random_state=None, ...) :\n",
      "               precision    recall  f1-score   support\n",
      "\n",
      "           0       0.92      0.90      0.91       659\n",
      "           1       0.89      0.93      0.91       682\n",
      "           2       0.94      0.93      0.94       664\n",
      "           3       0.94      0.92      0.93       635\n",
      "\n",
      "    accuracy                           0.92      2640\n",
      "   macro avg       0.92      0.92      0.92      2640\n",
      "weighted avg       0.92      0.92      0.92      2640\n",
      " :\n",
      "\n",
      "\n"
     ]
    }
   ],
   "source": [
    "RFC = RandomForestClassifier()\n",
    "RFC_params = {\n",
    "    \"n_estimators\" : np.arange(30,80),\n",
    "    \"max_features\": np.arange(1, 18),\n",
    "    \"bootstrap\" : [True],\n",
    "    \"oob_score\" : [True, False]\n",
    "}\n",
    "KNC = KNeighborsClassifier()\n",
    "KNC_params = {\n",
    "    'n_neighbors': [3, 5, 7, 9], \n",
    "    'weights': ['uniform', 'distance'], \n",
    "    'metric': ['euclidean', 'manhattan']\n",
    "}\n",
    "XGBC = XGBClassifier()\n",
    "XGBC_params = {\n",
    "    \"max_depth\" : np.arange(1,10),\n",
    "    \"learning_rate\": [0.01, 0.05, 0.1, 0.2],\n",
    "    \"n_estimators\": [25, 50, 75, 100, 125]\n",
    "}\n",
    "\n",
    "for model, parameters in [[RFC, RFC_params], [KNC, KNC_params], [XGBC, XGBC_params]]:\n",
    "    model_fit_evaluate(\n",
    "        model,\n",
    "        parameters,\n",
    "        X_train,\n",
    "        y_train,\n",
    "        X_test,\n",
    "        y_test\n",
    "    )"
   ]
  }
 ],
 "metadata": {
  "kernelspec": {
   "display_name": "Python 3 (ipykernel)",
   "language": "python",
   "name": "python3"
  },
  "language_info": {
   "codemirror_mode": {
    "name": "ipython",
    "version": 3
   },
   "file_extension": ".py",
   "mimetype": "text/x-python",
   "name": "python",
   "nbconvert_exporter": "python",
   "pygments_lexer": "ipython3",
   "version": "3.9.12"
  }
 },
 "nbformat": 4,
 "nbformat_minor": 5
}
